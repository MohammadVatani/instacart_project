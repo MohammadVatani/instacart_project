{
 "cells": [
  {
   "cell_type": "code",
   "execution_count": null,
   "id": "7f9dad80",
   "metadata": {},
   "outputs": [],
   "source": [
    "import numpy as np\n",
    "import pandas as pd\n",
    "import matplotlib.pyplot as plt\n",
    "import seaborn as sns\n",
    "\n",
    "%matplotlib inline"
   ]
  },
  {
   "cell_type": "code",
   "execution_count": null,
   "id": "f5d0f8b0",
   "metadata": {},
   "outputs": [],
   "source": [
    "%%javascript\n",
    "(function(on) {\n",
    "const e=$( \"<a>Setup failed</a>\" );\n",
    "const ns=\"js_jupyter_suppress_warnings\";\n",
    "var cssrules=$(\"#\"+ns);\n",
    "if(!cssrules.length) cssrules = $(\"<style id='\"+ns+\"' type='text/css'>div.output_stderr { } </style>\").appendTo(\"head\");\n",
    "e.click(function() {\n",
    "    var s='Showing';  \n",
    "    cssrules.empty()\n",
    "    if(on) {\n",
    "        s='Hiding';\n",
    "        cssrules.append(\"div.output_stderr, div[data-mime-type*='.stderr'] { display:none; }\");\n",
    "    }\n",
    "    e.text(s+' warnings (click to toggle)');\n",
    "    on=!on;\n",
    "}).click();\n",
    "$(element).append(e);\n",
    "})(true);"
   ]
  },
  {
   "cell_type": "code",
   "execution_count": null,
   "id": "8751f0f2",
   "metadata": {},
   "outputs": [],
   "source": [
    "orders_df = pd.read_csv('.//input//orders.csv')\n",
    "aisles_df = pd.read_csv('.//input//aisles.csv') \n",
    "department_df = pd.read_csv('.//input//departments.csv')\n",
    "order_products__prior_df = pd.read_csv('./input//order_products__prior.csv')\n",
    "order_products__train_df = pd.read_csv('.//input//order_products__train.csv')\n",
    "products_df = pd.read_csv('.//input//products.csv')"
   ]
  },
  {
   "cell_type": "code",
   "execution_count": null,
   "id": "efdbabb7",
   "metadata": {},
   "outputs": [],
   "source": [
    "order_products__prior_df = pd.merge(order_products__prior_df, products_df, on='product_id', how='left')"
   ]
  },
  {
   "cell_type": "code",
   "execution_count": null,
   "id": "2a7e3d20",
   "metadata": {},
   "outputs": [],
   "source": [
    "order_products__prior_df.head()"
   ]
  },
  {
   "cell_type": "code",
   "execution_count": null,
   "id": "68658de1",
   "metadata": {},
   "outputs": [],
   "source": [
    "products = order_products__prior_df['product_name'].value_counts().reset_index()\n",
    "products.columns = ['product_name', 'frequency_count']\n",
    "products.head(10)"
   ]
  },
  {
   "cell_type": "code",
   "execution_count": null,
   "id": "a3ebfbd9",
   "metadata": {},
   "outputs": [],
   "source": [
    "order_products__prior_df = pd.merge(order_products__prior_df, aisles_df, on='aisle_id', how='left')"
   ]
  },
  {
   "cell_type": "code",
   "execution_count": null,
   "id": "9f0b6c87",
   "metadata": {},
   "outputs": [],
   "source": [
    "order_products__prior_df.head()"
   ]
  },
  {
   "cell_type": "code",
   "execution_count": null,
   "id": "7998e06b",
   "metadata": {},
   "outputs": [],
   "source": [
    "aisles = order_products__prior_df['aisle'].value_counts().head(40)\n",
    "plt.figure(figsize=(16,8))\n",
    "sns.barplot(aisles.index, aisles.values, alpha=0.8)\n",
    "plt.ylabel('Number of Occurrences', fontsize=12)\n",
    "plt.xlabel('Aisle', fontsize=12)\n",
    "plt.xticks(rotation='vertical')\n",
    "plt.show()"
   ]
  },
  {
   "cell_type": "code",
   "execution_count": null,
   "id": "954e0fe1",
   "metadata": {},
   "outputs": [],
   "source": [
    "aisles = order_products__prior_df['aisle'].value_counts().reset_index().head(15)\n",
    "aisles.columns = ['aisle', 'frequency_count']\n",
    "label = np.array(aisles.aisle)\n",
    "aisles.plot.pie(labels=label,y='frequency_count',figsize=(10, 10))"
   ]
  },
  {
   "cell_type": "code",
   "execution_count": null,
   "id": "ddcb529f",
   "metadata": {},
   "outputs": [],
   "source": [
    "order_products__prior_df = pd.merge(order_products__prior_df, department_df, on='department_id', how='left')\n",
    "order_products__prior_df.head()"
   ]
  },
  {
   "cell_type": "code",
   "execution_count": null,
   "id": "f212a252",
   "metadata": {},
   "outputs": [],
   "source": [
    "departments = order_products__prior_df['department'].value_counts()\n",
    "plt.figure(figsize=(16,8))\n",
    "sns.barplot(departments.index, departments.values, alpha=0.8)\n",
    "plt.ylabel('Number of Occurrences', fontsize=12)\n",
    "plt.xlabel('department', fontsize=12)\n",
    "plt.xticks(rotation='vertical')\n",
    "plt.show() "
   ]
  },
  {
   "cell_type": "markdown",
   "id": "d3fcf069",
   "metadata": {},
   "source": [
    "check in wich departments reorde rate is better"
   ]
  },
  {
   "cell_type": "code",
   "execution_count": null,
   "id": "ba6fd484",
   "metadata": {},
   "outputs": [],
   "source": [
    "department_reoder = order_products__prior_df.groupby('department')['reordered'].aggregate('mean').reset_index()\n",
    "\n",
    "plt.figure(figsize=(16,8))\n",
    "sns.barplot(department_reoder['department'].values, department_reoder['reordered'].values, alpha=0.8)\n",
    "plt.ylabel('rate of reorder', fontsize=12)\n",
    "plt.xlabel('department', fontsize=12)\n",
    "plt.xticks(rotation='vertical')\n",
    "plt.show() "
   ]
  },
  {
   "cell_type": "code",
   "execution_count": null,
   "id": "2a75a170",
   "metadata": {},
   "outputs": [],
   "source": [
    "order_products__train_df = pd.merge(order_products__train_df, orders_df, on='order_id', how='left')"
   ]
  },
  {
   "cell_type": "code",
   "execution_count": null,
   "id": "aa91f0fa",
   "metadata": {},
   "outputs": [],
   "source": [
    "order_products__train_df.head(10)"
   ]
  },
  {
   "cell_type": "code",
   "execution_count": null,
   "id": "42ea6df9",
   "metadata": {},
   "outputs": [],
   "source": [
    "purchase_order_dow = order_products__train_df.groupby('order_dow')['add_to_cart_order'].aggregate('mean').reset_index()\n",
    "purchase_order_dow.head(10)"
   ]
  },
  {
   "cell_type": "code",
   "execution_count": null,
   "id": "0e54c1f9",
   "metadata": {},
   "outputs": [],
   "source": [
    "label = np.array(purchase_order_dow.order_dow)\n",
    "purchase_order_dow.plot.pie(labels=label,y='add_to_cart_order',figsize=(10, 10))\n",
    "plt.show()"
   ]
  },
  {
   "cell_type": "code",
   "execution_count": null,
   "id": "7a76c93f",
   "metadata": {},
   "outputs": [],
   "source": [
    "order_dow_reordered = order_products__train_df.groupby(\"order_dow\")[\"reordered\"].aggregate(\"mean\").reset_index()\n",
    "\n",
    "plt.figure(figsize=(12,8))\n",
    "sns.barplot(order_dow_reordered['order_dow'].values, order_dow_reordered['reordered'].values, alpha=0.8)\n",
    "plt.ylabel('Reorder ratio', fontsize=12)\n",
    "plt.xlabel('Day of week', fontsize=12)\n",
    "plt.title(\"Reorder ratio across day of week\", fontsize=15)\n",
    "plt.xticks(rotation='vertical')\n",
    "plt.ylim(0.4, 0.7)\n",
    "plt.show()"
   ]
  },
  {
   "cell_type": "code",
   "execution_count": null,
   "id": "d2db1b2e",
   "metadata": {},
   "outputs": [],
   "source": []
  }
 ],
 "metadata": {
  "kernelspec": {
   "display_name": "Python 3",
   "language": "python",
   "name": "python3"
  },
  "language_info": {
   "codemirror_mode": {
    "name": "ipython",
    "version": 3
   },
   "file_extension": ".py",
   "mimetype": "text/x-python",
   "name": "python",
   "nbconvert_exporter": "python",
   "pygments_lexer": "ipython3",
   "version": "3.8.5"
  }
 },
 "nbformat": 4,
 "nbformat_minor": 5
}
