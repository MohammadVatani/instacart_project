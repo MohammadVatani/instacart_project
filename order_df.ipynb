{
 "cells": [
  {
   "cell_type": "markdown",
   "id": "3cd3ecef",
   "metadata": {},
   "source": [
    "# import modules"
   ]
  },
  {
   "cell_type": "code",
   "execution_count": null,
   "id": "56683690",
   "metadata": {},
   "outputs": [],
   "source": [
    "import numpy as np\n",
    "import pandas as pd\n",
    "import matplotlib.pyplot as plt\n",
    "import seaborn as sns\n",
    "\n",
    "%matplotlib inline"
   ]
  },
  {
   "cell_type": "markdown",
   "id": "55fbcbde",
   "metadata": {},
   "source": [
    "# Hide warnings"
   ]
  },
  {
   "cell_type": "code",
   "execution_count": null,
   "id": "f46a87b8",
   "metadata": {},
   "outputs": [],
   "source": [
    "%%javascript\n",
    "(function(on) {\n",
    "const e=$( \"<a>Setup failed</a>\" );\n",
    "const ns=\"js_jupyter_suppress_warnings\";\n",
    "var cssrules=$(\"#\"+ns);\n",
    "if(!cssrules.length) cssrules = $(\"<style id='\"+ns+\"' type='text/css'>div.output_stderr { } </style>\").appendTo(\"head\");\n",
    "e.click(function() {\n",
    "    var s='Showing';  \n",
    "    cssrules.empty()\n",
    "    if(on) {\n",
    "        s='Hiding';\n",
    "        cssrules.append(\"div.output_stderr, div[data-mime-type*='.stderr'] { display:none; }\");\n",
    "    }\n",
    "    e.text(s+' warnings (click to toggle)');\n",
    "    on=!on;\n",
    "}).click();\n",
    "$(element).append(e);\n",
    "})(true);"
   ]
  },
  {
   "cell_type": "markdown",
   "id": "38aa0403",
   "metadata": {},
   "source": [
    "# Read csv files"
   ]
  },
  {
   "cell_type": "code",
   "execution_count": null,
   "id": "c18a42b9",
   "metadata": {},
   "outputs": [],
   "source": [
    "orders_df = pd.read_csv('.//input//orders.csv')\n",
    "aisles_df = pd.read_csv('.//input//aisles.csv') \n",
    "department_df = pd.read_csv('.//input//departments.csv')\n",
    "order_products__prior_df = pd.read_csv('./input//order_products__prior.csv')\n",
    "order_products__train_df = pd.read_csv('.//input//order_products__train.csv')\n",
    "products_df = pd.read_csv('.//input//products.csv')\n",
    "sample_submission_df = pd.read_csv('.//input//sample_submission.csv')"
   ]
  },
  {
   "cell_type": "code",
   "execution_count": null,
   "id": "607e3b97",
   "metadata": {},
   "outputs": [],
   "source": [
    "orders_df.head()"
   ]
  },
  {
   "cell_type": "code",
   "execution_count": null,
   "id": "9e0a6493",
   "metadata": {},
   "outputs": [],
   "source": [
    "orders_df.shape"
   ]
  },
  {
   "cell_type": "code",
   "execution_count": null,
   "id": "89c7df1e",
   "metadata": {},
   "outputs": [],
   "source": [
    "isna = orders_df.isna().sum(axis=0)\n",
    "isna"
   ]
  },
  {
   "cell_type": "code",
   "execution_count": null,
   "id": "cb12e72b",
   "metadata": {},
   "outputs": [],
   "source": [
    "orders_df.loc[orders_df.order_number==1].count()"
   ]
  },
  {
   "cell_type": "code",
   "execution_count": null,
   "id": "e78fa206",
   "metadata": {
    "scrolled": true
   },
   "outputs": [],
   "source": [
    "order_value_set = orders_df.eval_set.value_counts()\n",
    "sns.barplot(order_value_set.index,order_value_set.values)\n",
    "plt.ylabel('Number of occurrences')\n",
    "plt.show()\n",
    "print(order_value_set)"
   ]
  },
  {
   "cell_type": "code",
   "execution_count": null,
   "id": "137df197",
   "metadata": {},
   "outputs": [],
   "source": [
    "order_time = orders_df.order_hour_of_day.value_counts()\n",
    "plt.figure(figsize=(12,5))\n",
    "sns.barplot(order_time.index,order_time.values)\n",
    "plt.xlabel('hour')\n",
    "plt.ylabel('Count')\n",
    "plt.title('Frequency of order in hour of day')\n",
    "plt.show()"
   ]
  },
  {
   "cell_type": "code",
   "execution_count": null,
   "id": "fb2d3215",
   "metadata": {},
   "outputs": [],
   "source": [
    "days_between_order = orders_df.days_since_prior_order.value_counts()\n",
    "plt.figure(figsize=(15,6))\n",
    "sns.barplot(days_between_order.index,days_between_order.values)\n",
    "plt.xlabel('day')\n",
    "plt.ylabel('Count')\n",
    "plt.title('Days betweet prior order and last order')\n",
    "plt.show()"
   ]
  },
  {
   "cell_type": "code",
   "execution_count": null,
   "id": "890408ca",
   "metadata": {},
   "outputs": [],
   "source": [
    "grouped_df = orders_df.groupby([\"order_dow\", \"order_hour_of_day\"])[\"order_number\"].aggregate(\"count\").reset_index()\n",
    "grouped_df = grouped_df.pivot('order_dow', 'order_hour_of_day', 'order_number')\n",
    "\n",
    "plt.figure(figsize=(16,6))\n",
    "sns.heatmap(grouped_df)\n",
    "plt.title(\"Frequency of Day of week Vs Hour of day\")\n",
    "plt.show()"
   ]
  },
  {
   "cell_type": "code",
   "execution_count": null,
   "id": "7847d8c0",
   "metadata": {},
   "outputs": [],
   "source": [
    "order__number = orders_df.groupby(by='user_id')['order_number'].aggregate(np.max).reset_index()\n",
    "order__number = order__number.order_number.value_counts()\n",
    "plt.figure(figsize=(20,8))\n",
    "sns.barplot(order__number.index,order__number.values)\n",
    "plt.xlabel('Number of orders')\n",
    "plt.ylabel('Number of Occurrences')\n",
    "plt.show()"
   ]
  },
  {
   "cell_type": "code",
   "execution_count": null,
   "id": "14c7bd17",
   "metadata": {},
   "outputs": [],
   "source": [
    "aisles_df.head()"
   ]
  },
  {
   "cell_type": "code",
   "execution_count": null,
   "id": "5356dda4",
   "metadata": {},
   "outputs": [],
   "source": [
    "aisles_df.shape"
   ]
  },
  {
   "cell_type": "code",
   "execution_count": null,
   "id": "60ed6036",
   "metadata": {},
   "outputs": [],
   "source": [
    "department_df.head()"
   ]
  },
  {
   "cell_type": "code",
   "execution_count": null,
   "id": "841daeae",
   "metadata": {},
   "outputs": [],
   "source": [
    "department_df.shape"
   ]
  },
  {
   "cell_type": "code",
   "execution_count": null,
   "id": "a02f8663",
   "metadata": {},
   "outputs": [],
   "source": [
    "order_products__prior_df.head(10)"
   ]
  },
  {
   "cell_type": "code",
   "execution_count": null,
   "id": "218943c3",
   "metadata": {},
   "outputs": [],
   "source": [
    "isna = order_products__prior_df.isna().sum(axis=0)\n",
    "isna"
   ]
  },
  {
   "cell_type": "code",
   "execution_count": null,
   "id": "cb3be8e9",
   "metadata": {},
   "outputs": [],
   "source": [
    "reordered_product = order_products__prior_df.reordered.value_counts()\n",
    "ratio = reordered_product/order_products__prior_df.shape[0]\n",
    "ratio\n"
   ]
  },
  {
   "cell_type": "code",
   "execution_count": null,
   "id": "21d15146",
   "metadata": {},
   "outputs": [],
   "source": [
    "reordered_product = order_products__train_df.reordered.value_counts()\n",
    "ratio = reordered_product/order_products__train_df.shape[0]\n",
    "ratio"
   ]
  },
  {
   "cell_type": "code",
   "execution_count": null,
   "id": "f4de1a4d",
   "metadata": {},
   "outputs": [],
   "source": [
    "orders = order_products__prior_df.groupby(\"order_id\")[\"reordered\"].aggregate(\"sum\").reset_index()\n",
    "reorders = orders[orders['reordered'] != 0]\n",
    "\n",
    "ratio = reorders.shape[0]/orders.shape[0]\n",
    "ratio"
   ]
  },
  {
   "cell_type": "code",
   "execution_count": null,
   "id": "e45a4a5d",
   "metadata": {},
   "outputs": [],
   "source": [
    "orders = order_products__train_df.groupby(\"order_id\")[\"reordered\"].aggregate(\"sum\").reset_index()\n",
    "reorders = orders[orders['reordered'] != 0]\n",
    "\n",
    "ratio = reorders.shape[0]/orders.shape[0]\n",
    "ratio"
   ]
  },
  {
   "cell_type": "code",
   "execution_count": null,
   "id": "c82f563f",
   "metadata": {},
   "outputs": [],
   "source": [
    "purchase_in_order = order_products__prior_df.groupby(\"order_id\")[\"add_to_cart_order\"].aggregate(\"max\").reset_index()\n",
    "purchase_in_order = purchase_in_order.add_to_cart_order.value_counts()\n",
    "\n",
    "plt.figure(figsize=(18,8))\n",
    "sns.barplot(purchase_in_order.index, purchase_in_order.values)\n",
    "plt.ylabel('Number of Occurrences')\n",
    "plt.xlabel('Number of products in an order', fontsize=12)\n",
    "plt.show()"
   ]
  },
  {
   "cell_type": "code",
   "execution_count": null,
   "id": "1098c260",
   "metadata": {},
   "outputs": [],
   "source": []
  },
  {
   "cell_type": "code",
   "execution_count": null,
   "id": "72968c56",
   "metadata": {},
   "outputs": [],
   "source": []
  },
  {
   "cell_type": "code",
   "execution_count": null,
   "id": "72706faa",
   "metadata": {},
   "outputs": [],
   "source": []
  },
  {
   "cell_type": "code",
   "execution_count": null,
   "id": "d5c04628",
   "metadata": {},
   "outputs": [],
   "source": []
  },
  {
   "cell_type": "code",
   "execution_count": null,
   "id": "9a9dbed2",
   "metadata": {},
   "outputs": [],
   "source": []
  }
 ],
 "metadata": {
  "kernelspec": {
   "display_name": "Python 3",
   "language": "python",
   "name": "python3"
  },
  "language_info": {
   "codemirror_mode": {
    "name": "ipython",
    "version": 3
   },
   "file_extension": ".py",
   "mimetype": "text/x-python",
   "name": "python",
   "nbconvert_exporter": "python",
   "pygments_lexer": "ipython3",
   "version": "3.8.5"
  }
 },
 "nbformat": 4,
 "nbformat_minor": 5
}
